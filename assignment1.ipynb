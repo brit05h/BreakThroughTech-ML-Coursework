{
  "metadata": {
    "language_info": {
      "codemirror_mode": {
        "name": "python",
        "version": 3
      },
      "file_extension": ".py",
      "mimetype": "text/x-python",
      "name": "python",
      "nbconvert_exporter": "python",
      "pygments_lexer": "ipython3",
      "version": "3.8"
    },
    "kernelspec": {
      "name": "python",
      "display_name": "Python (Pyodide)",
      "language": "python"
    }
  },
  "nbformat_minor": 4,
  "nbformat": 4,
  "cells": [
    {
      "cell_type": "markdown",
      "source": "## Jupyter Notebook Practice",
      "metadata": {}
    },
    {
      "cell_type": "markdown",
      "source": "In this exercise, you will conintue working in Jupyter Notebooks to become accustomed to programming in the Jupyter Notebook environment. You will create a function and then use it to perform a few operations. You will practice how to run commands, print output and get in-notebook help.\n",
      "metadata": {}
    },
    {
      "cell_type": "markdown",
      "source": "## Step 1",
      "metadata": {}
    },
    {
      "cell_type": "markdown",
      "source": "Write a function called get_square that takes in a single numeric value as an argument (called x ), squares that value and returns the result. Run the cell by either clicking on the \"Run\" button in the menu bar or by hitting \"Return+Shift\" at the same time on your keyboard.\n",
      "metadata": {}
    },
    {
      "cell_type": "code",
      "source": "def get_square(x): \n    return x**2",
      "metadata": {
        "trusted": true
      },
      "execution_count": 4,
      "outputs": []
    },
    {
      "cell_type": "markdown",
      "source": "## Self Check",
      "metadata": {}
    },
    {
      "cell_type": "markdown",
      "source": "Run the cell below to test the correctness of your code above before submitting for grading. Do not add code or delete code in the cell.",
      "metadata": {}
    },
    {
      "cell_type": "code",
      "source": "# Run this self-test cell to check your code; do not add code or delete code in this cell\nfrom jn import testGetSquare\ntry:\n    p, err = testGetSquare(get_square) \n    print(err)\nexcept Exception as e: \n    print(\"Error!\\n\" + str(e))",
      "metadata": {
        "trusted": true
      },
      "execution_count": 7,
      "outputs": [
        {
          "ename": "<class 'ModuleNotFoundError'>",
          "evalue": "No module named 'jn'",
          "traceback": [
            "\u001b[0;31m---------------------------------------------------------------------------\u001b[0m",
            "\u001b[0;31mModuleNotFoundError\u001b[0m                       Traceback (most recent call last)",
            "Cell \u001b[0;32mIn[7], line 2\u001b[0m\n\u001b[1;32m      1\u001b[0m \u001b[38;5;66;03m# Run this self-test cell to check your code; do not add code or delete code in this cell\u001b[39;00m\n\u001b[0;32m----> 2\u001b[0m \u001b[38;5;28;01mfrom\u001b[39;00m \u001b[38;5;21;01mjn\u001b[39;00m \u001b[38;5;28;01mimport\u001b[39;00m testGetSquare\n\u001b[1;32m      3\u001b[0m \u001b[38;5;28;01mtry\u001b[39;00m:\n\u001b[1;32m      4\u001b[0m     p, err \u001b[38;5;241m=\u001b[39m testGetSquare(get_square) \n",
            "\u001b[0;31mModuleNotFoundError\u001b[0m: No module named 'jn'"
          ],
          "output_type": "error"
        }
      ]
    },
    {
      "cell_type": "markdown",
      "source": "## Step 2",
      "metadata": {}
    },
    {
      "cell_type": "markdown",
      "source": "Use the get_square function you just wrote to find the square of a few different numbers. Write a loop that prints on a separate line the integers 1 through 4 and their corresponding squares. Separate the integer and its square by a comma. The first two lines of output would be:\n\n1,1  \n\n2,4",
      "metadata": {}
    },
    {
      "cell_type": "markdown",
      "source": "## Step 3",
      "metadata": {}
    },
    {
      "cell_type": "markdown",
      "source": "Use the get_square function to find the squares of all integers between 0 and 9. Save the results to a new list named first_squares and print the list.\nNote: you can solve this in multiple ways, including using a Python technique called list comprehension, in which all of the code to accomplish this task can be contained on one line.\n",
      "metadata": {}
    },
    {
      "cell_type": "code",
      "source": "def get_square(x): \n    return x**2\nlist = [0,1,2,3,4,5,6,7,8,9] \nfirst_squares = []\nfor num in list:\n    first_squares.append(num**2) \n\nprint(first_squares)",
      "metadata": {
        "trusted": true
      },
      "execution_count": 9,
      "outputs": [
        {
          "name": "stdout",
          "text": "[0, 1, 4, 9, 16, 25, 36, 49, 64, 81]\n",
          "output_type": "stream"
        }
      ]
    },
    {
      "cell_type": "markdown",
      "source": "## Self Check",
      "metadata": {}
    },
    {
      "cell_type": "code",
      "source": "# Run this self-test cell to check your code; do not add code or delete code in this cell\nfrom jn import testFirstSquares\n\ntry:\n    p, err = testFirstSquares(get_square, first_squares) \n    print(err)\nexcept Exception as e: \n    print(\"Error!\\n\" + str(e))",
      "metadata": {},
      "execution_count": null,
      "outputs": []
    },
    {
      "cell_type": "markdown",
      "source": "## Step 4 ",
      "metadata": {}
    },
    {
      "cell_type": "markdown",
      "source": "Let's say you want to sort the list first_squares in descending order. You know that you can use a sorting method in the format of listName.sort but you forgot how to properly call this method.\nYou learned that Jupyter Notebooks have a nice feature where if you put the \"?\" symbol after the function or method you want to run, it displays a new window containing the documentation for you to review.\nRun the code cell below and review the documentation. 1) identify how to sort in reverse order, and 2) identify whether the list is sorted in place, that is, identify whether the list first_squares will be changed to have new sorted values. If this is the case, you wouldn't have to create a new list when sorting.\n",
      "metadata": {}
    },
    {
      "cell_type": "code",
      "source": "list.sort?",
      "metadata": {
        "trusted": true
      },
      "execution_count": 10,
      "outputs": [
        {
          "name": "stdout",
          "text": "\u001b[0;31mSignature:\u001b[0m \u001b[0mlist\u001b[0m\u001b[0;34m.\u001b[0m\u001b[0msort\u001b[0m\u001b[0;34m(\u001b[0m\u001b[0;34m*\u001b[0m\u001b[0;34m,\u001b[0m \u001b[0mkey\u001b[0m\u001b[0;34m=\u001b[0m\u001b[0;32mNone\u001b[0m\u001b[0;34m,\u001b[0m \u001b[0mreverse\u001b[0m\u001b[0;34m=\u001b[0m\u001b[0;32mFalse\u001b[0m\u001b[0;34m)\u001b[0m\u001b[0;34m\u001b[0m\u001b[0;34m\u001b[0m\u001b[0m\n\u001b[0;31mDocstring:\u001b[0m\nSort the list in ascending order and return None.\n\nThe sort is in-place (i.e. the list itself is modified) and stable (i.e. the\norder of two equal elements is maintained).\n\nIf a key function is given, apply it once to each list item and sort them,\nascending or descending, according to their function values.\n\nThe reverse flag can be set to sort in descending order.\n\u001b[0;31mType:\u001b[0m      builtin_function_or_method\n",
          "output_type": "stream"
        }
      ]
    },
    {
      "cell_type": "markdown",
      "source": "## Step 5",
      "metadata": {}
    },
    {
      "cell_type": "markdown",
      "source": "Now that you know how to use the .sort method, use it to sort the first_squares list in reverse order. Then print the first 5 elements of the list to visually verify that it worked.",
      "metadata": {}
    },
    {
      "cell_type": "code",
      "source": "first_squares.sort(reverse=True) \nprint(first_squares)",
      "metadata": {
        "trusted": true
      },
      "execution_count": 12,
      "outputs": [
        {
          "name": "stdout",
          "text": "[81, 64, 49, 36, 25, 16, 9, 4, 1, 0]\n",
          "output_type": "stream"
        }
      ]
    },
    {
      "cell_type": "markdown",
      "source": "## Self-Check",
      "metadata": {}
    },
    {
      "cell_type": "code",
      "source": "# Run this self-test cell to check your code; do not add code or delete code in this cell\nfrom jn import testReverseSort\ntry:\n    p, err = testReverseSort(get_square, first_squares) \n    print(err)\nexcept Exception as e: \n    print(\"Error!\\n\" + str(e))",
      "metadata": {},
      "execution_count": null,
      "outputs": []
    },
    {
      "cell_type": "code",
      "source": "",
      "metadata": {},
      "execution_count": null,
      "outputs": []
    }
  ]
}